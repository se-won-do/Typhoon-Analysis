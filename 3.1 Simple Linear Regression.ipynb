{
  "cells": [
    {
      "cell_type": "markdown",
      "metadata": {
        "id": "UNEpraYjr8r6"
      },
      "source": [
        "# Linear Regression"
      ]
    },
    {
      "cell_type": "markdown",
      "metadata": {
        "id": "ui0g3DCdr8r7"
      },
      "source": [
        "Boise State University\\\n",
        "Department of Computer Science\\\n",
        "CS 334 Algorithms of Machine Learning\\\n",
        "Conrad Kennington\\\n",
        "Fall 2020"
      ]
    },
    {
      "cell_type": "markdown",
      "metadata": {
        "id": "gSad19Icr8r7"
      },
      "source": [
        "Remember the equation for plotting a line on a graph?\\\n",
        "y = mx + b\\\n",
        "The slop is x.\\\n",
        "The y intercept is b.\n",
        "\n",
        "If you plot a bunch of data on a graph, and see a cluster of dots, linear regression figures out where to draw a line through the dots where they are all as close to the line as possible. That's it.\n",
        "\n",
        "It's super useful, and the probably the simplest model for machine learning. That's right, the \"line\" is essentially a model. An equation that maps inputs to outputs, aka a \"prediction\".\n",
        "\n",
        "Linear regression is a method for approximating a linear relationship between two variables. It's a good introductory ML algorithm that comes from the field of statistics, and is over 200 years old. It's the \"hello world\" of Machine Learning. "
      ]
    },
    {
      "cell_type": "markdown",
      "metadata": {
        "id": "vGwCCQcfr8r7"
      },
      "source": [
        "# Import libraries"
      ]
    },
    {
      "cell_type": "code",
      "execution_count": null,
      "metadata": {
        "id": "yhBFBQPUr8r7"
      },
      "outputs": [],
      "source": [
        "%matplotlib inline\n",
        "import numpy as np\n",
        "import matplotlib.pyplot as plt\n",
        "import pandas as pd\n",
        "import sklearn\n",
        "from sklearn.datasets import make_classification\n",
        "import seaborn as sns"
      ]
    },
    {
      "cell_type": "markdown",
      "metadata": {
        "id": "qc9P2nPvr8r8"
      },
      "source": [
        "# Make up some data"
      ]
    },
    {
      "cell_type": "code",
      "execution_count": null,
      "metadata": {
        "id": "Afrnksocr8r8"
      },
      "outputs": [],
      "source": [
        "data = {\n",
        "        'GPA': [3.0, 3.7],\n",
        "        'Hours Studied': [2, 8]\n",
        "        }\n",
        "\n",
        "df = pd.DataFrame(data, columns = ['GPA', 'Hours Studied'])"
      ]
    },
    {
      "cell_type": "markdown",
      "metadata": {
        "id": "KAzBggJSr8r8"
      },
      "source": [
        "## Print the data."
      ]
    },
    {
      "cell_type": "code",
      "execution_count": null,
      "metadata": {
        "scrolled": true,
        "id": "2zibsiZDr8r8",
        "outputId": "fd4b23d2-a2ad-47a0-a2b2-f738cf095406"
      },
      "outputs": [
        {
          "name": "stdout",
          "output_type": "stream",
          "text": [
            "(8, 2)\n"
          ]
        },
        {
          "data": {
            "text/html": [
              "<div>\n",
              "<style scoped>\n",
              "    .dataframe tbody tr th:only-of-type {\n",
              "        vertical-align: middle;\n",
              "    }\n",
              "\n",
              "    .dataframe tbody tr th {\n",
              "        vertical-align: top;\n",
              "    }\n",
              "\n",
              "    .dataframe thead th {\n",
              "        text-align: right;\n",
              "    }\n",
              "</style>\n",
              "<table border=\"1\" class=\"dataframe\">\n",
              "  <thead>\n",
              "    <tr style=\"text-align: right;\">\n",
              "      <th></th>\n",
              "      <th>GPA</th>\n",
              "      <th>Hours Studied</th>\n",
              "    </tr>\n",
              "  </thead>\n",
              "  <tbody>\n",
              "    <tr>\n",
              "      <th>0</th>\n",
              "      <td>3.0</td>\n",
              "      <td>2</td>\n",
              "    </tr>\n",
              "    <tr>\n",
              "      <th>1</th>\n",
              "      <td>3.7</td>\n",
              "      <td>8</td>\n",
              "    </tr>\n",
              "    <tr>\n",
              "      <th>2</th>\n",
              "      <td>3.3</td>\n",
              "      <td>3</td>\n",
              "    </tr>\n",
              "    <tr>\n",
              "      <th>3</th>\n",
              "      <td>2.5</td>\n",
              "      <td>1</td>\n",
              "    </tr>\n",
              "    <tr>\n",
              "      <th>4</th>\n",
              "      <td>4.0</td>\n",
              "      <td>12</td>\n",
              "    </tr>\n",
              "  </tbody>\n",
              "</table>\n",
              "</div>"
            ],
            "text/plain": [
              "   GPA  Hours Studied\n",
              "0  3.0              2\n",
              "1  3.7              8\n",
              "2  3.3              3\n",
              "3  2.5              1\n",
              "4  4.0             12"
            ]
          },
          "execution_count": 20,
          "metadata": {},
          "output_type": "execute_result"
        }
      ],
      "source": [
        "# It's common to print the data, just for a sanity check.\n",
        "print(df.shape)\n",
        "df.head()"
      ]
    },
    {
      "cell_type": "markdown",
      "metadata": {
        "id": "MJJ2Esq2r8r8"
      },
      "source": [
        "# Plot on a graph"
      ]
    },
    {
      "cell_type": "code",
      "execution_count": null,
      "metadata": {
        "scrolled": true,
        "id": "c5yQkjm6r8r8",
        "outputId": "38d976a0-fc16-40c6-e617-5cc49862443b"
      },
      "outputs": [
        {
          "data": {
            "image/png": "[encoded data removed]",
            "text/plain": [
              "<Figure size 432x288 with 1 Axes>"
            ]
          },
          "metadata": {
            "needs_background": "light"
          },
          "output_type": "display_data"
        }
      ],
      "source": [
        "# Using the matplotlib library\n",
        "X = df['Hours Studied'].values\n",
        "Y = df['GPA'].values\n",
        "\n",
        "# Plot the data point\n",
        "plt.scatter(X, Y, color='#ff0000', label='Data Point')\n",
        "\n",
        "# axis labels\n",
        "plt.xlabel('Hours Studied')\n",
        "plt.ylabel('GPA')\n",
        "\n",
        "plt.legend()\n",
        "plt.show()"
      ]
    },
    {
      "cell_type": "markdown",
      "metadata": {
        "id": "GVG9wetYr8r8"
      },
      "source": [
        "## Calculate the line\n",
        "Linear Regression, from scratch using \"least squares\" method."
      ]
    },
    {
      "cell_type": "code",
      "execution_count": null,
      "metadata": {
        "id": "yKlg9Oxqr8r8",
        "outputId": "3e653e20-1d34-4122-f05e-7f6ac4c228b1"
      },
      "outputs": [
        {
          "name": "stdout",
          "output_type": "stream",
          "text": [
            "0.12118959107806693 2.613011152416357\n"
          ]
        }
      ],
      "source": [
        "# Really good explanation of this algorithm:\n",
        "# https://www.youtube.com/watch?v=JvS2triCgOY\n",
        "\n",
        "x_mean = np.mean(X)\n",
        "y_mean = np.mean(Y)\n",
        "\n",
        "#total number of values\n",
        "n = len(X)\n",
        "\n",
        "# Using the least square method to to calculate the b1 and b0 (y = mx + b, which is a line on a graph)\n",
        "numerator = 0\n",
        "denominator = 0\n",
        "for i in range(n):\n",
        "    numerator += (X[i] - x_mean) * (Y[i] - y_mean)\n",
        "    denominator += (X[i] - x_mean) ** 2\n",
        "\n",
        "b1 = numerator / denominator\n",
        "b0 = y_mean - (b1 * x_mean)\n",
        "\n",
        "# Print the slope (b0) and the y intercept (b1)\n",
        "print(b1, b0)"
      ]
    },
    {
      "cell_type": "markdown",
      "metadata": {
        "id": "98r8bhqEr8r9"
      },
      "source": [
        "## Plot the line against the data."
      ]
    },
    {
      "cell_type": "code",
      "execution_count": null,
      "metadata": {
        "id": "NlOik9mzr8r9",
        "outputId": "990e48fc-eee2-4c49-c777-73ac6a73e7fa"
      },
      "outputs": [
        {
          "data": {
            "image/png": "[encoded data removed]",
            "text/plain": [
              "<Figure size 432x288 with 1 Axes>"
            ]
          },
          "metadata": {
            "needs_background": "light"
          },
          "output_type": "display_data"
        }
      ],
      "source": [
        "#plotting values \n",
        "\n",
        "# graph dimensions\n",
        "x_max = np.max(X)\n",
        "x_min = np.min(X)\n",
        "\n",
        "# calculating line values of x and y\n",
        "x = np.linspace(x_min, x_max, 1000)\n",
        "y = b0 + b1 * x\n",
        "\n",
        "#plotting line \n",
        "plt.plot(x, y, color='#777777', label='Linear Regression')\n",
        "\n",
        "#plot the data point\n",
        "plt.scatter(X, Y, color='#ff0000', label='Data Point')\n",
        "\n",
        "# x-axis label\n",
        "plt.xlabel('Hours Studied')\n",
        "\n",
        "#y-axis label\n",
        "plt.ylabel('GPA')\n",
        "\n",
        "plt.legend()\n",
        "plt.show()"
      ]
    },
    {
      "cell_type": "markdown",
      "metadata": {
        "id": "7zM05jTJr8r9"
      },
      "source": [
        "The idea is that for a given number of hours studied, the line tells you the mean predicted GPA."
      ]
    },
    {
      "cell_type": "markdown",
      "metadata": {
        "id": "JRDI5qdWr8r9"
      },
      "source": [
        "## How good is this \"model\"?"
      ]
    },
    {
      "cell_type": "markdown",
      "metadata": {
        "id": "oOWSlJhlr8r9"
      },
      "source": [
        "Every model has ways (usually more than one) to determine accuracy.\\\n",
        "This example shows how good this model is depends on how much \"error\" there is between the model and all the data points.\\\n",
        "If you give it a new data point, it basically shows how much you can \"trust\" the model."
      ]
    },
    {
      "cell_type": "code",
      "execution_count": null,
      "metadata": {
        "id": "BadrxudPr8r9",
        "outputId": "bd0b1c85-9d98-41c0-e8f5-60e37c8b5461"
      },
      "outputs": [
        {
          "name": "stdout",
          "output_type": "stream",
          "text": [
            "0.21019551882432927\n"
          ]
        }
      ],
      "source": [
        "# Root Mean Squared Error \"rmse\" method.\n",
        "rmse = 0\n",
        "for i in range(n):\n",
        "    y_pred=  b0 + b1* X[i]\n",
        "    rmse += (Y[i] - y_pred) ** 2\n",
        "rmse = np.sqrt(rmse/n)\n",
        "print(rmse) # Lower is better. 0.0 is a perfect model, no errors."
      ]
    },
    {
      "cell_type": "markdown",
      "metadata": {
        "id": "2y_W-1GPr8r9"
      },
      "source": [
        "Here's another algorithm to determine accuracy for Logistic Regression.\\\n",
        "\"Sum of squares of residuals\""
      ]
    },
    {
      "cell_type": "code",
      "execution_count": null,
      "metadata": {
        "id": "Ri_tRKHtr8r9",
        "outputId": "1ee33258-02b0-430c-fed9-8f77ba12657c"
      },
      "outputs": [
        {
          "name": "stdout",
          "output_type": "stream",
          "text": [
            "0.8073802457380754\n"
          ]
        }
      ],
      "source": [
        "sumofsquares = 0\n",
        "sumofresiduals = 0\n",
        "for i in range(n) :\n",
        "    y_pred = b0 + b1 * X[i]\n",
        "    sumofsquares += (Y[i] - y_mean) ** 2\n",
        "    sumofresiduals += (Y[i] - y_pred) **2\n",
        "    \n",
        "score  = 1 - (sumofresiduals/sumofsquares)\n",
        "print(score) # The higher the score, the better. 1.0 is a perfect model, 100% accurate."
      ]
    },
    {
      "cell_type": "markdown",
      "metadata": {
        "id": "KbzUOV-yr8r9"
      },
      "source": [
        "# Now try a different data set, watch the line move, and the accuracy change.\n",
        "You can run this data cell only, then go back to \"print the data\" and run each cell after that."
      ]
    },
    {
      "cell_type": "code",
      "execution_count": null,
      "metadata": {
        "id": "CuAalFMgr8r9"
      },
      "outputs": [],
      "source": [
        "data = {'GPA': [3.0, 3.7, 3.3],\n",
        "        'Hours Studied': [2, 8, 3]\n",
        "        }\n",
        "df = pd.DataFrame(data, columns = ['GPA', 'Hours Studied'])"
      ]
    },
    {
      "cell_type": "code",
      "execution_count": null,
      "metadata": {
        "id": "ZoRtZFu7r8r9"
      },
      "outputs": [],
      "source": [
        "data = {'GPA': [3.0, 3.7, 3.3, 2.5, 4.0, 3.2, 3.9, 3.0],\n",
        "        'Hours Studied': [2, 8, 3, 1, 12, 7, 9, 5]\n",
        "        }\n",
        "df = pd.DataFrame(data, columns = ['GPA', 'Hours Studied'])"
      ]
    },
    {
      "cell_type": "code",
      "execution_count": null,
      "metadata": {
        "id": "KAfgrNOjr8r9"
      },
      "outputs": [],
      "source": []
    },
    {
      "cell_type": "markdown",
      "metadata": {
        "id": "Knwn7sPSr8r-"
      },
      "source": [
        "## THERE ARE OTHER APPROACHES TOO.\n",
        "The approach above was a direct calculation.\\\n",
        "**Most machine learning algorithms don't have that option!!**\\\n",
        "\\\n",
        "Machine Learning usually has to *find* the optimal solution by *trying* different models.\\\n",
        "This is called **optimization**, and involves something called a **cost function**\\."
      ]
    },
    {
      "cell_type": "code",
      "execution_count": null,
      "metadata": {
        "id": "H8r_s0H3r8r-"
      },
      "outputs": [],
      "source": []
    }
  ],
  "metadata": {
    "kernelspec": {
      "display_name": "Python 3",
      "language": "python",
      "name": "python3"
    },
    "language_info": {
      "codemirror_mode": {
        "name": "ipython",
        "version": 3
      },
      "file_extension": ".py",
      "mimetype": "text/x-python",
      "name": "python",
      "nbconvert_exporter": "python",
      "pygments_lexer": "ipython3",
      "version": "3.8.5"
    },
    "colab": {
      "provenance": []
    }
  },
  "nbformat": 4,
  "nbformat_minor": 0
}